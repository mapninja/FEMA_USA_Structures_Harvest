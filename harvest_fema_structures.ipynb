{
 "cells": [
  {
   "cell_type": "code",
   "execution_count": null,
   "metadata": {},
   "outputs": [],
   "source": [
    "!pip install bs4 tqdm"
   ]
  },
  {
   "cell_type": "code",
   "execution_count": null,
   "metadata": {},
   "outputs": [],
   "source": [
    "import requests\n",
    "from bs4 import BeautifulSoup\n",
    "import re\n",
    "import os\n",
    "from concurrent.futures import ThreadPoolExecutor\n",
    "import time\n",
    "from tqdm import tqdm  # For progress bar\n",
    "import math"
   ]
  },
  {
   "cell_type": "markdown",
   "metadata": {},
   "source": [
    "## Harvest Zip URLs"
   ]
  },
  {
   "cell_type": "code",
   "execution_count": null,
   "metadata": {},
   "outputs": [],
   "source": [
    "\n",
    "\n",
    "# URL of the page to scrape\n",
    "url = \"https://disasters.geoplatform.gov/USA_Structures/\"\n",
    "\n",
    "# Send a GET request to fetch the HTML content of the page\n",
    "response = requests.get(url)\n",
    "\n",
    "# Save the HTML content to a local file\n",
    "with open('USA_Structures.html', 'w', encoding='utf-8') as file:\n",
    "    file.write(response.text)\n",
    "\n",
    "# Parse the HTML content using BeautifulSoup\n",
    "soup = BeautifulSoup(response.text, 'html.parser')\n",
    "\n",
    "# Find all URLs that end with .zip (assuming these are the downloadable zip files)\n",
    "zip_links = []\n",
    "for link in soup.find_all('a', href=True):\n",
    "    if re.search(r'\\.zip$', link['href']):\n",
    "        zip_links.append(link['href'])\n",
    "\n",
    "# Print the list of zip file URLs\n",
    "for zip_link in zip_links:\n",
    "    print(zip_link)\n",
    "    \n",
    "print(len(zip_links))\n",
    "\n"
   ]
  },
  {
   "cell_type": "markdown",
   "metadata": {},
   "source": [
    "# Download to Q Drive"
   ]
  },
  {
   "cell_type": "code",
   "execution_count": null,
   "metadata": {},
   "outputs": [],
   "source": [
    "# Destination folder where the files will be saved (SMB path)\n",
    "destination_folder = \"/Volumes/GIS/FEMA_USA_Structures_10_17_2024\"\n",
    "\n",
    "# Ensure the destination folder exists\n",
    "os.makedirs(destination_folder, exist_ok=True)\n",
    "\n",
    "# Function to download a single file with progress feedback\n",
    "def download_zip(url, index, total_files):\n",
    "    start_time = time.time()\n",
    "    file_name = os.path.join(destination_folder, os.path.basename(url))\n",
    "    response = requests.get(url, stream=True)\n",
    "    \n",
    "    if response.status_code == 200:\n",
    "        total_size = int(response.headers.get('content-length', 0))\n",
    "        block_size = 1024  # 1 Kilobyte\n",
    "        t = tqdm(total=total_size, unit='B', unit_scale=True, desc=f\"File {index+1}/{total_files}: {file_name}\")\n",
    "\n",
    "        with open(file_name, 'wb') as f:\n",
    "            for data in response.iter_content(block_size):\n",
    "                t.update(len(data))\n",
    "                f.write(data)\n",
    "        t.close()\n",
    "\n",
    "        # Time calculation for this file\n",
    "        download_time = time.time() - start_time\n",
    "        file_size_MB = total_size / (1024 * 1024)\n",
    "        print(f\"Downloaded: {file_name} | Size: {file_size_MB:.2f} MB | Time: {download_time:.2f} s\")\n",
    "\n",
    "    else:\n",
    "        print(f\"Failed to download: {url}\")\n",
    "\n",
    "# Function to download files in parallel with a control on simultaneous downloads\n",
    "def download_zips_in_parallel(zip_links, max_workers=4):\n",
    "    total_files = len(zip_links)\n",
    "    start_time = time.time()\n",
    "    \n",
    "    with ThreadPoolExecutor(max_workers=max_workers) as executor:\n",
    "        futures = []\n",
    "        for index, url in enumerate(zip_links):\n",
    "            futures.append(executor.submit(download_zip, url, index, total_files))\n",
    "\n",
    "    # Total time calculation\n",
    "    total_time_elapsed = time.time() - start_time\n",
    "    print(f\"All downloads completed in {total_time_elapsed:.2f} seconds\")\n",
    "\n",
    "# Call the function to start downloading with progress\n",
    "download_zips_in_parallel(zip_links, max_workers=4)\n"
   ]
  },
  {
   "cell_type": "markdown",
   "metadata": {},
   "source": [
    "# Unzip contents"
   ]
  },
  {
   "cell_type": "code",
   "execution_count": null,
   "metadata": {},
   "outputs": [],
   "source": []
  }
 ],
 "metadata": {
  "kernelspec": {
   "display_name": "Python 3",
   "language": "python",
   "name": "python3"
  },
  "language_info": {
   "codemirror_mode": {
    "name": "ipython",
    "version": 3
   },
   "file_extension": ".py",
   "mimetype": "text/x-python",
   "name": "python",
   "nbconvert_exporter": "python",
   "pygments_lexer": "ipython3",
   "version": "3.11.8"
  }
 },
 "nbformat": 4,
 "nbformat_minor": 2
}
