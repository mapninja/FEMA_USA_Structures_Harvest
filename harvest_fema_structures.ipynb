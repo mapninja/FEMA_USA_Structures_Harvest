{
 "cells": [
  {
   "cell_type": "code",
   "execution_count": 1,
   "metadata": {},
   "outputs": [
    {
     "name": "stdout",
     "output_type": "stream",
     "text": [
      "Requirement already satisfied: bs4 in /Users/maples/opt/anaconda3/envs/gdal-env/lib/python3.11/site-packages (0.0.2)\n",
      "Requirement already satisfied: tqdm in /Users/maples/opt/anaconda3/envs/gdal-env/lib/python3.11/site-packages (4.66.1)\n",
      "Requirement already satisfied: beautifulsoup4 in /Users/maples/opt/anaconda3/envs/gdal-env/lib/python3.11/site-packages (from bs4) (4.12.2)\n",
      "Requirement already satisfied: soupsieve>1.2 in /Users/maples/opt/anaconda3/envs/gdal-env/lib/python3.11/site-packages (from beautifulsoup4->bs4) (2.5)\n"
     ]
    }
   ],
   "source": [
    "!pip install bs4 tqdm"
   ]
  },
  {
   "cell_type": "code",
   "execution_count": 5,
   "metadata": {},
   "outputs": [],
   "source": [
    "import requests\n",
    "from bs4 import BeautifulSoup\n",
    "import re\n",
    "import os\n",
    "from concurrent.futures import ThreadPoolExecutor\n",
    "import time\n",
    "from tqdm import tqdm  # For progress bar\n",
    "import math\n",
    "import zipfile\n",
    "from osgeo import ogr\n",
    "import json\n"
   ]
  },
  {
   "cell_type": "markdown",
   "metadata": {},
   "source": [
    "## Harvest Zip URLs"
   ]
  },
  {
   "cell_type": "code",
   "execution_count": null,
   "metadata": {},
   "outputs": [],
   "source": [
    "\n",
    "\n",
    "# URL of the page to scrape\n",
    "url = \"https://disasters.geoplatform.gov/USA_Structures/\"\n",
    "\n",
    "# Send a GET request to fetch the HTML content of the page\n",
    "response = requests.get(url)\n",
    "\n",
    "# Save the HTML content to a local file\n",
    "with open('USA_Structures.html', 'w', encoding='utf-8') as file:\n",
    "    file.write(response.text)\n",
    "\n",
    "# Parse the HTML content using BeautifulSoup\n",
    "soup = BeautifulSoup(response.text, 'html.parser')\n",
    "\n",
    "# Find all URLs that end with .zip (assuming these are the downloadable zip files)\n",
    "zip_links = []\n",
    "for link in soup.find_all('a', href=True):\n",
    "    if re.search(r'\\.zip$', link['href']):\n",
    "        zip_links.append(link['href'])\n",
    "\n",
    "# Print the list of zip file URLs\n",
    "for zip_link in zip_links:\n",
    "    print(zip_link)\n",
    "    \n",
    "print(len(zip_links))\n",
    "\n"
   ]
  },
  {
   "cell_type": "markdown",
   "metadata": {},
   "source": [
    "# Download to Q Drive"
   ]
  },
  {
   "cell_type": "code",
   "execution_count": null,
   "metadata": {},
   "outputs": [],
   "source": [
    "# Destination folder where the files will be saved (SMB path)\n",
    "destination_folder = \"/Volumes/GIS/FEMA_USA_Structures_10_17_2024\"\n",
    "\n",
    "# Ensure the destination folder exists\n",
    "os.makedirs(destination_folder, exist_ok=True)\n",
    "\n",
    "# Function to download a single file with progress feedback\n",
    "def download_zip(url, index, total_files):\n",
    "    start_time = time.time()\n",
    "    file_name = os.path.join(destination_folder, os.path.basename(url))\n",
    "    response = requests.get(url, stream=True)\n",
    "    \n",
    "    if response.status_code == 200:\n",
    "        total_size = int(response.headers.get('content-length', 0))\n",
    "        block_size = 1024  # 1 Kilobyte\n",
    "        t = tqdm(total=total_size, unit='B', unit_scale=True, desc=f\"File {index+1}/{total_files}: {file_name}\")\n",
    "\n",
    "        with open(file_name, 'wb') as f:\n",
    "            for data in response.iter_content(block_size):\n",
    "                t.update(len(data))\n",
    "                f.write(data)\n",
    "        t.close()\n",
    "\n",
    "        # Time calculation for this file\n",
    "        download_time = time.time() - start_time\n",
    "        file_size_MB = total_size / (1024 * 1024)\n",
    "        print(f\"Downloaded: {file_name} | Size: {file_size_MB:.2f} MB | Time: {download_time:.2f} s\")\n",
    "\n",
    "    else:\n",
    "        print(f\"Failed to download: {url}\")\n",
    "\n",
    "# Function to download files in parallel with a control on simultaneous downloads\n",
    "def download_zips_in_parallel(zip_links, max_workers=4):\n",
    "    total_files = len(zip_links)\n",
    "    start_time = time.time()\n",
    "    \n",
    "    with ThreadPoolExecutor(max_workers=max_workers) as executor:\n",
    "        futures = []\n",
    "        for index, url in enumerate(zip_links):\n",
    "            futures.append(executor.submit(download_zip, url, index, total_files))\n",
    "\n",
    "    # Total time calculation\n",
    "    total_time_elapsed = time.time() - start_time\n",
    "    print(f\"All downloads completed in {total_time_elapsed:.2f} seconds\")\n",
    "\n",
    "# Call the function to start downloading with progress\n",
    "download_zips_in_parallel(zip_links, max_workers=4)\n"
   ]
  },
  {
   "cell_type": "markdown",
   "metadata": {},
   "source": [
    "# Unzip folders"
   ]
  },
  {
   "cell_type": "code",
   "execution_count": null,
   "metadata": {},
   "outputs": [],
   "source": [
    "\n",
    "\n",
    "# Path to the folder containing the zip files\n",
    "folder_path = \"/Volumes/GIS/FEMA_USA_Structures_10_17_2024\"\n",
    "\n",
    "# Function to unzip all zip files in the folder\n",
    "def unzip_files_in_folder(folder_path):\n",
    "    # Iterate through all files in the folder\n",
    "    for file_name in os.listdir(folder_path):\n",
    "        # Check if the file is a zip file\n",
    "        if file_name.endswith('.zip'):\n",
    "            file_path = os.path.join(folder_path, file_name)\n",
    "            # Define the directory where the files will be extracted\n",
    "            extract_path = folder_path\n",
    "            \n",
    "            # Unzip the file\n",
    "            with zipfile.ZipFile(file_path, 'r') as zip_ref:\n",
    "                print(f\"Unzipping {file_name}...\")\n",
    "                zip_ref.extractall(extract_path)\n",
    "                print(f\"Unzipped {file_name} to {extract_path}\")\n",
    "\n",
    "# Call the function to start unzipping\n",
    "unzip_files_in_folder(folder_path)\n"
   ]
  },
  {
   "cell_type": "markdown",
   "metadata": {},
   "source": [
    "# Convert GDB to GEoJSON with Fiona"
   ]
  },
  {
   "cell_type": "code",
   "execution_count": null,
   "metadata": {},
   "outputs": [],
   "source": [
    "# Path to the root folder where GDB files are stored\n",
    "root_folder = \"/Volumes/GIS/FEMA_USA_Structures_10_17_2024\"\n",
    "\n",
    "# Function to convert feature layer to newline-delimited GeoJSON\n",
    "def convert_to_ndjson(input_gdb, layer_name, output_file):\n",
    "    # Open the GDB layer using Fiona\n",
    "    with fiona.open(input_gdb, layer=layer_name) as source:\n",
    "        with open(output_file, 'w') as output_ndjson:\n",
    "            # Iterate through each feature and write it in GeoJSON format\n",
    "            for feature in source:\n",
    "                output_ndjson.write(json.dumps(feature) + '\\n')\n",
    "            print(f\"Converted {layer_name} to {output_file}\")\n",
    "\n",
    "# Function to traverse directories and find GDB files\n",
    "def traverse_and_convert(root_folder):\n",
    "    # Walk through the root folder\n",
    "    for dirpath, dirnames, filenames in os.walk(root_folder):\n",
    "        for dirname in dirnames:\n",
    "            if dirname.endswith('.gdb'):\n",
    "                gdb_path = os.path.join(dirpath, dirname)\n",
    "                print(f\"Found GDB: {gdb_path}\")\n",
    "\n",
    "                # List all layers in the GDB\n",
    "                with fiona.Env():\n",
    "                    layers = fiona.listlayers(gdb_path)\n",
    "                    for layer in layers:\n",
    "                        print(f\"Processing layer: {layer}\")\n",
    "                        # Define output path for the newline-delimited GeoJSON\n",
    "                        output_ndjson = os.path.join(dirpath, f\"{layer}.ndjson\")\n",
    "                        # Convert the feature layer to newline-delimited GeoJSON\n",
    "                        convert_to_ndjson(gdb_path, layer, output_ndjson)\n",
    "\n",
    "# Start the traversal and conversion process\n",
    "traverse_and_convert(root_folder)\n"
   ]
  },
  {
   "cell_type": "markdown",
   "metadata": {},
   "source": [
    "# Use GDAL to Convert GDB to Geojson"
   ]
  },
  {
   "cell_type": "code",
   "execution_count": null,
   "metadata": {},
   "outputs": [],
   "source": [
    "\n",
    "# Path to the root folder where GDB files are stored\n",
    "root_folder = \"/Volumes/GIS/FEMA_USA_Structures_10_17_2024\"\n",
    "\n",
    "# Function to convert feature layer to newline-delimited GeoJSON\n",
    "def convert_to_ndjson(input_gdb, layer_name, output_file):\n",
    "    driver = ogr.GetDriverByName('OpenFileGDB')\n",
    "    gdb = driver.Open(input_gdb, 0)  # 0 means read-only\n",
    "    if not gdb:\n",
    "        print(f\"Failed to open GDB: {input_gdb}\")\n",
    "        return\n",
    "\n",
    "    layer = gdb.GetLayerByName(layer_name)\n",
    "    if not layer:\n",
    "        print(f\"Layer {layer_name} not found in GDB: {input_gdb}\")\n",
    "        return\n",
    "\n",
    "    with open(output_file, 'w') as output_ndjson:\n",
    "        # Iterate through features in the layer\n",
    "        for feature in layer:\n",
    "            geojson_feature = feature.ExportToJson()\n",
    "            output_ndjson.write(geojson_feature + '\\n')\n",
    "        print(f\"Converted {layer_name} to {output_file}\")\n",
    "\n",
    "# Function to traverse directories and find GDB files\n",
    "def traverse_and_convert(root_folder):\n",
    "    # Walk through the root folder\n",
    "    for dirpath, dirnames, filenames in os.walk(root_folder):\n",
    "        for dirname in dirnames:\n",
    "            if dirname.endswith('.gdb'):\n",
    "                gdb_path = os.path.join(dirpath, dirname)\n",
    "                print(f\"Found GDB: {gdb_path}\")\n",
    "\n",
    "                # Open GDB to find available layers\n",
    "                driver = ogr.GetDriverByName('OpenFileGDB')\n",
    "                gdb = driver.Open(gdb_path, 0)\n",
    "                if gdb:\n",
    "                    for i in range(gdb.GetLayerCount()):\n",
    "                        layer = gdb.GetLayerByIndex(i)\n",
    "                        layer_name = layer.GetName()\n",
    "                        print(f\"Processing layer: {layer_name}\")\n",
    "\n",
    "                        # Define output path for the newline-delimited GeoJSON\n",
    "                        output_ndjson = os.path.join(dirpath, f\"{layer_name}.ndjson\")\n",
    "                        # Convert the feature layer to newline-delimited GeoJSON\n",
    "                        convert_to_ndjson(gdb_path, layer_name, output_ndjson)\n",
    "\n",
    "# Start the traversal and conversion process\n",
    "traverse_and_convert(root_folder)\n"
   ]
  }
 ],
 "metadata": {
  "kernelspec": {
   "display_name": "Python 3",
   "language": "python",
   "name": "python3"
  },
  "language_info": {
   "codemirror_mode": {
    "name": "ipython",
    "version": 3
   },
   "file_extension": ".py",
   "mimetype": "text/x-python",
   "name": "python",
   "nbconvert_exporter": "python",
   "pygments_lexer": "ipython3",
   "version": "3.11.8"
  }
 },
 "nbformat": 4,
 "nbformat_minor": 2
}
